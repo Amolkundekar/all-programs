{
 "cells": [
  {
   "cell_type": "code",
   "execution_count": 1,
   "metadata": {},
   "outputs": [],
   "source": [
    "import cv2\n",
    "import numpy as np\n",
    "\n",
    "# Create a VideoCapture object to capture video from your webcam (0 is typically the default camera)\n",
    "cap = cv2.VideoCapture(0)\n",
    "\n",
    "while True:\n",
    "    ret, frame = cap.read()\n",
    "    if not ret:\n",
    "        break\n",
    "\n",
    "    # Convert the frame to grayscale for better edge detection\n",
    "    gray = cv2.cvtColor(frame, cv2.COLOR_BGR2GRAY)\n",
    "\n",
    "    # Apply Gaussian blur to reduce noise and improve edge detection\n",
    "    gray = cv2.GaussianBlur(gray, (15, 15), 0)\n",
    "\n",
    "    # Use Canny edge detection to find edges in the frame\n",
    "    edges = cv2.Canny(gray, 30, 100)\n",
    "\n",
    "    # Find contours in the edges\n",
    "    contours, _ = cv2.findContours(edges, cv2.RETR_EXTERNAL, cv2.CHAIN_APPROX_SIMPLE)\n",
    "\n",
    "    # Filter and draw the largest contour (assuming it's the hand)\n",
    "    if contours:\n",
    "        max_contour = max(contours, key=cv2.contourArea)\n",
    "        cv2.drawContours(frame, [max_contour], 0, (0, 255, 0), 2)\n",
    "\n",
    "        # Determine if the hand is making a \"thumbs up\" or \"thumbs down\" gesture\n",
    "        epsilon = 0.03 * cv2.arcLength(max_contour, True)\n",
    "        approx = cv2.approxPolyDP(max_contour, epsilon, True)\n",
    "        if len(approx) == 4:\n",
    "            cv2.putText(frame, \"Thumbs Up (Okay)\", (10, 30), cv2.FONT_HERSHEY_SIMPLEX, 1, (0, 255, 0), 2)\n",
    "        else:\n",
    "            cv2.putText(frame, \"Thumbs Down (Not Okay)\", (10, 30), cv2.FONT_HERSHEY_SIMPLEX, 1, (0, 0, 255), 2)\n",
    "\n",
    "            \n",
    "    # Display the frame with the detected hand contour and gesture recognition\n",
    "    cv2.imshow(\"Hand Detection\", frame)\n",
    "\n",
    "    # Exit the loop by pressing 'q'\n",
    "    if cv2.waitKey(1) & 0xFF == ord('q'):\n",
    "        break\n",
    "\n",
    "# Release the video capture and close OpenCV windows\n",
    "cap.release()\n",
    "cv2.destroyAllWindows()\n"
   ]
  },
  {
   "cell_type": "markdown",
   "metadata": {},
   "source": []
  }
 ],
 "metadata": {
  "kernelspec": {
   "display_name": "Python 3",
   "language": "python",
   "name": "python3"
  },
  "language_info": {
   "codemirror_mode": {
    "name": "ipython",
    "version": 3
   },
   "file_extension": ".py",
   "mimetype": "text/x-python",
   "name": "python",
   "nbconvert_exporter": "python",
   "pygments_lexer": "ipython3",
   "version": "3.11.4"
  }
 },
 "nbformat": 4,
 "nbformat_minor": 2
}
